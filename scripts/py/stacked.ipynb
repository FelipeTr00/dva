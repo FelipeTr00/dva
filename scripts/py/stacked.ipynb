{
 "cells": [
  {
   "cell_type": "code",
   "execution_count": null,
   "metadata": {},
   "outputs": [],
   "source": [
    "# libraries\n",
    "import pandas as pd\n",
    "import numpy as np\n",
    "import matplotlib.pyplot as plt\n",
    "import sqlite3\n",
    "import matplotlib.ticker as ticker\n",
    "\n",
    "# banco de dados\n",
    "db = \"D:/monografia/#monografia-github/database/dva.db\"\n",
    "conn = sqlite3.connect(db)\n",
    "# conn.close()\n",
    "query = \"\"\"\n",
    "SELECT \n",
    "    ANO,\n",
    "    SUM(Pessoal) * 0.0001 as Pessoal,\n",
    "    SUM(Governo) * 0.0001 as Governo,\n",
    "    SUM(RCT) * 0.0001 as Credores,\n",
    "    SUM(RCP) * 0.0001 as Acionistas\n",
    "FROM dva_contas\n",
    "GROUP BY ANO;\n",
    "\n",
    "\n",
    "\"\"\"\n",
    "dados = pd.read_sql_query(query, conn)\n",
    "dados.head()\n",
    "\n"
   ]
  },
  {
   "cell_type": "code",
   "execution_count": null,
   "metadata": {},
   "outputs": [],
   "source": [
    "df = pd.DataFrame(dados)\n",
    "\n",
    "# Preparar dados para o gráfico\n",
    "anos = df[\"ANO\"]\n",
    "pessoal = df[\"Pessoal\"]\n",
    "governo = df[\"Governo\"]\n",
    "credores = df[\"Credores\"]\n",
    "acionistas = df[\"Acionistas\"]"
   ]
  },
  {
   "cell_type": "code",
   "execution_count": null,
   "metadata": {},
   "outputs": [],
   "source": [
    "# Criar gráfico de área empilhada\n",
    "fig, ax = plt.subplots()\n",
    "ax.stackplot(anos, pessoal, governo, credores, acionistas,\n",
    "             labels=[\"Pessoal\", \"Governo\", \"Credores\", \"Acionistas\"], alpha=0.8)\n",
    "ax.legend(loc='upper left', reverse=True)\n",
    "ax.set_title('Distribuição dos Gastos por Ano')\n",
    "ax.set_xlabel('Ano')\n",
    "ax.set_ylabel('Valores (milhões)')\n",
    "\n",
    "# Adicionar ticks menores a cada 200 milhões\n",
    "ax.yaxis.set_minor_locator(mticker.MultipleLocator(1))\n",
    "\n",
    "# Exibir gráfico\n",
    "plt.show()"
   ]
  },
  {
   "cell_type": "markdown",
   "metadata": {},
   "source": [
    "\n",
    "EXEMPLO\n",
    "\n",
    "\n",
    "import matplotlib.pyplot as plt\n",
    "import numpy as np\n",
    "\n",
    "import matplotlib.ticker as mticker\n",
    "\n",
    "# data from United Nations World Population Prospects (Revision 2019)\n",
    "# https://population.un.org/wpp/, license: CC BY 3.0 IGO\n",
    "year = [1950, 1960, 1970, 1980, 1990, 2000, 2010, 2018]\n",
    "population_by_continent = {\n",
    "    'Africa': [.228, .284, .365, .477, .631, .814, 1.044, 1.275],\n",
    "    'the Americas': [.340, .425, .519, .619, .727, .840, .943, 1.006],\n",
    "    'Asia': [1.394, 1.686, 2.120, 2.625, 3.202, 3.714, 4.169, 4.560],\n",
    "    'Europe': [.220, .253, .276, .295, .310, .303, .294, .293],\n",
    "    'Oceania': [.012, .015, .019, .022, .026, .031, .036, .039],\n",
    "}\n",
    "\n",
    "fig, ax = plt.subplots()\n",
    "ax.stackplot(year, population_by_continent.values(),\n",
    "             labels=population_by_continent.keys(), alpha=0.8)\n",
    "ax.legend(loc='upper left', reverse=True)\n",
    "ax.set_title('World population')\n",
    "ax.set_xlabel('Year')\n",
    "ax.set_ylabel('Number of people (billions)')\n",
    "# add tick at every 200 million people\n",
    "ax.yaxis.set_minor_locator(mticker.MultipleLocator(.2))\n",
    "\n",
    "plt.show()"
   ]
  }
 ],
 "metadata": {
  "language_info": {
   "name": "python"
  }
 },
 "nbformat": 4,
 "nbformat_minor": 2
}
