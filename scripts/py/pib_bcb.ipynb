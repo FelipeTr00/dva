{
 "cells": [
  {
   "cell_type": "code",
   "execution_count": 10,
   "id": "4751e903-f926-48ff-9c97-b9e26cf185e1",
   "metadata": {},
   "outputs": [
    {
     "name": "stdout",
     "output_type": "stream",
     "text": [
      "Rows: 408\n",
      "Columns: 4\n",
      "$ ANO      \u001b[3m\u001b[90m<int>\u001b[39m\u001b[23m 1990, 1990, 1990, 1990, 1990, 1990, 1990, 1990, 1990, 1990, 1…\n",
      "$ DATA     \u001b[3m\u001b[90m<date>\u001b[39m\u001b[23m 1990-01-01, 1990-02-01, 1990-03-01, 1990-04-01, 1990-05-01, …\n",
      "$ PIB      \u001b[3m\u001b[90m<dbl>\u001b[39m\u001b[23m 0.2, 0.4, 0.8, 0.7, 0.8, 0.8, 0.9, 1.0, 1.1, 1.4, 1.7, 1.8, 2…\n",
      "$ PIB_REAL \u001b[3m\u001b[90m<dbl>\u001b[39m\u001b[23m 390914.0, 455398.4, 502314.6, 394795.0, 413674.1, 379447.9, 3…\n"
     ]
    }
   ],
   "source": [
    "setwd(\"D:/monografia/_dva/scripts/py/\")\n",
    "pacman::p_load(dplyr, psych, ggplot2, tidyr, DBI, RSQLite, lubridate)\n",
    "options(sapien = 999)\n",
    "\n",
    "db_path <- \"D:/monografia/_dva/db/dva.db\"\n",
    "con <- dbConnect(RSQLite::SQLite(), dbname = db_path)\n",
    "dados <- dbReadTable(con, \"pib_bcb\")\n",
    "dados$DATA <- as.Date(dados$DATA, \"%d/%m/%Y\")\n",
    "glimpse(dados)\n"
   ]
  },
  {
   "cell_type": "code",
   "execution_count": 7,
   "id": "3c5bb014-2d5a-4be7-bd4e-82288d240602",
   "metadata": {},
   "outputs": [
    {
     "data": {
      "image/png": "[encoded data removed]",
      "text/plain": [
       "plot without title"
      ]
     },
     "metadata": {
      "image/png": {
       "height": 420,
       "width": 420
      }
     },
     "output_type": "display_data"
    }
   ],
   "source": [
    "# Defina as variáveis para altura e largura do gráfico\n",
    "largura <- 10  # largura em polegadas\n",
    "altura <- 7  # altura em polegadas\n",
    "\n",
    "# Ajuste os parâmetros gráficos para definir a altura e largura\n",
    "par(mfrow = c(1, 1), mar = c(5, 5, 4, 2) + 0.1, oma = c(0, 0, 2, 0))\n",
    "\n",
    "# Defina o tamanho do dispositivo gráfico\n",
    "dev.new(width = largura, height = altura)\n",
    "\n",
    "# Encontre o valor máximo entre as três colunas\n",
    "max_y <- max(max(dados$PIB_REAL), max(dados$PIB))\n",
    "\n",
    "par(mgp = c(2, 0.5, 0))  # Ajuste os valores conforme necessário\n",
    "\n",
    "# Crie o gráfico vazio usando plot() com o primeiro conjunto de dados\n",
    "plot(dados$DATA,\n",
    "     dados$PIB,\n",
    "     type = \"n\",  # Defina type = \"n\" para criar um gráfico vazio\n",
    "     xlab = \"Ano\", ylab = \"Valorer (R$ Trilhões)\",\n",
    "     ylim = c(0, max_y),  # Definir limite do eixo y\n",
    "     yaxt = \"n\",   # Não mostrar o eixo Y automaticamente\n",
    "     xaxt = \"n\",  # Não mostrar o eixo X automaticamente\n",
    "     cex.lab = 1.1)\n",
    "\n",
    "# Adicione as linhas com diferentes símbolos\n",
    "lines(dados$DATA, dados$PIB,\n",
    "      type = \"l\", col = \"red\", lwd = 2)\n",
    "lines(dados$DATA, dados$PIB_REAL,\n",
    "      type = \"l\", col = \"black\", lwd = 3)      \n",
    "\n",
    "# Adicione uma legenda\n",
    "legend(\"bottomright\", \n",
    "       legend = c(\"PIB Real*\", \"PIB Nominal\"), \n",
    "       col = c(\"black\", \"red\"), \n",
    "       pch = c(NA, NA),  # Símbolos correspondentes\n",
    "       lty = 1,\n",
    "       lwd = 3,\n",
    "       cex = 1.4,       # Tamanho da fonte\n",
    "       xjust = 1,       # Ajusta a posição horizontal da legenda\n",
    "       yjust = 0.5,     # Ajusta a posição vertical da legenda\n",
    "       #inset = c(-0.2, 0) # Ajusta a posição da legenda em relação ao gráfico\n",
    ")\n",
    "\n",
    "# Obtenha anos únicos e suas posições correspondentes\n",
    "unique_years <- unique(dados$ANO)\n",
    "unique_positions <- dados$DATA[match(unique_years, dados$ANO)]\n",
    "\n",
    "# Adicione os anos no eixo X, apenas os únicos\n",
    "axis(1, at = unique_positions, labels = unique_years, las = 1, cex.axis = 1)\n",
    "\n",
    "# Ajuste o formato do eixo Y para mostrar os valores divididos por 100\n",
    "# e evite notação científica\n",
    "y_ticks <- pretty(range(dados$PIB_REAL, dados$PIB))\n",
    "y_labels <- format(y_ticks / 100000, scientific = FALSE)\n",
    "axis(2, at = y_ticks, labels = y_labels, las = 1, cex.axis = 1)\n",
    "\n",
    "# Adicione a nota explicativa abaixo do eixo X\n",
    "mtext(\"* Valores ajustados pelo IGP-DI (Fundação Getúlio Vargas).\",\n",
    "      side = 1, line = 4, cex = 1.1, adj = 0, outer = FALSE)\n"
   ]
  },
  {
   "cell_type": "code",
   "execution_count": 5,
   "id": "f65ea998-4926-457c-b644-b1f9ffe7924a",
   "metadata": {},
   "outputs": [
    {
     "data": {
      "text/html": [
       "<strong>png:</strong> 2"
      ],
      "text/latex": [
       "\\textbf{png:} 2"
      ],
      "text/markdown": [
       "**png:** 2"
      ],
      "text/plain": [
       "png \n",
       "  2 "
      ]
     },
     "metadata": {},
     "output_type": "display_data"
    }
   ],
   "source": [
    "# SALVAR O GRÁFICO\n",
    "# Especifica o nome do arquivo e o tipo\n",
    "png(filename = \"grafico_pib.png\", width = 800, height = 600)\n",
    "\n",
    "# Repita o código do gráfico para salvá-lo no arquivo\n",
    "max_y <- max(max(dados$PIB_REAL), max(dados$PIB))\n",
    "\n",
    "par(mgp = c(2, 0.5, 0))  # Ajuste os valores conforme necessário\n",
    "\n",
    "# Crie o gráfico vazio usando plot() com o primeiro conjunto de dados\n",
    "plot(dados$DATA,\n",
    "     dados$PIB,\n",
    "     type = \"n\",  # Defina type = \"n\" para criar um gráfico vazio\n",
    "     xlab = \"Ano\", ylab = \"Valorer (R$ Trilhões)\",\n",
    "     ylim = c(0, max_y),  # Definir limite do eixo y\n",
    "     yaxt = \"n\",   # Não mostrar o eixo Y automaticamente\n",
    "     xaxt = \"n\",  # Não mostrar o eixo X automaticamente\n",
    "     cex.lab = 1.1)\n",
    "\n",
    "# Adicione as linhas com diferentes símbolos\n",
    "lines(dados$DATA, dados$PIB,\n",
    "      type = \"l\", col = \"red\", lwd = 2)\n",
    "lines(dados$DATA, dados$PIB_REAL,\n",
    "      type = \"l\", col = \"black\", lwd = 3)      \n",
    "\n",
    "# Adicione uma legenda\n",
    "legend(\"bottomright\", \n",
    "       legend = c(\"PIB Real*\", \"PIB Nominal\"), \n",
    "       col = c(\"black\", \"red\"), \n",
    "       pch = c(NA, NA),  # Símbolos correspondentes\n",
    "       lty = 1,\n",
    "       lwd = 3,\n",
    "       cex = 1.4,       # Tamanho da fonte\n",
    "       xjust = 1,       # Ajusta a posição horizontal da legenda\n",
    "       yjust = 0.5     # Ajusta a posição vertical da legenda\n",
    ")\n",
    "\n",
    "# Obtenha anos únicos e suas posições correspondentes\n",
    "unique_years <- unique(dados$ANO)\n",
    "unique_positions <- dados$DATA[match(unique_years, dados$ANO)]\n",
    "\n",
    "# Adicione os anos no eixo X, apenas os únicos\n",
    "axis(1, at = unique_positions, labels = unique_years, las = 1, cex.axis = 1)\n",
    "\n",
    "# Ajuste o formato do eixo Y para mostrar os valores divididos por 100\n",
    "# e evite notação científica\n",
    "y_ticks <- pretty(range(dados$PIB_REAL, dados$PIB))\n",
    "y_labels <- format(y_ticks / 100000, scientific = FALSE)\n",
    "axis(2, at = y_ticks, labels = y_labels, las = 1, cex.axis = 1)\n",
    "\n",
    "# Adicione a nota explicativa abaixo do eixo X\n",
    "mtext(\"* Valores ajustados pelo IGP-DI (Fundação Getúlio Vargas).\",\n",
    "      side = 1, line = 4, cex = 1.1, adj = 0, outer = FALSE)\n",
    "\n",
    "# Feche o dispositivo gráfico para salvar o arquivo\n",
    "dev.off()"
   ]
  }
 ],
 "metadata": {
  "kernelspec": {
   "display_name": "R",
   "language": "R",
   "name": "ir"
  },
  "language_info": {
   "codemirror_mode": "r",
   "file_extension": ".r",
   "mimetype": "text/x-r-source",
   "name": "R",
   "pygments_lexer": "r",
   "version": "4.4.1"
  }
 },
 "nbformat": 4,
 "nbformat_minor": 5
}
